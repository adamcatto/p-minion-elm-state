{
 "cells": [
  {
   "cell_type": "markdown",
   "metadata": {
    "pycharm": {
     "name": "#%% md\n"
    }
   },
   "source": [
    "# Machine Learning Homework 02 – Linear Classifier Implementation\n",
    "\n",
    "## Implementation"
   ]
  },
  {
   "cell_type": "code",
   "execution_count": 1,
   "metadata": {},
   "outputs": [],
   "source": [
    "import numpy as np\n",
    "import pandas as pd\n",
    "import sklearn\n",
    "from sklearn.model_selection import train_test_split\n",
    "from sklearn.datasets import load_iris, load_breast_cancer\n",
    "from sklearn.preprocessing import OneHotEncoder\n",
    "import seaborn\n",
    "import matplotlib.pyplot as plt"
   ]
  },
  {
   "cell_type": "code",
   "execution_count": 2,
   "metadata": {},
   "outputs": [],
   "source": [
    "def linear_regression_train(x, y):\n",
    "    x_pinv = np.linalg.pinv(x)\n",
    "    weights = np.matmul(x_pinv, y)\n",
    "    return weights\n",
    "\n",
    "def linear_regression_predict(weights, x):\n",
    "    weights = np.transpose(weights)\n",
    "    y_hat = np.matmul(weights, x)\n",
    "    return y_hat"
   ]
  },
  {
   "cell_type": "code",
   "execution_count": null,
   "outputs": [],
   "source": [
    "coded_iris_labels = {'setosa': np.array([1,0,0]), 'versicolor': np.array([0,1,0]), 'virginica': np.array([0,0,1])}\n",
    "index_iris_labels = {'setosa': 0, 'versicolor': 1, 'virginica': 2}\n",
    "\n",
    "\n",
    "def multiclass_perceptron_train_iris(x_train, y_train, num_iters=10000, lr=0.01, regression_init=True):\n",
    "    one_hot_indices = {0: [1,0,0], 1: [0,1,0], 2: [0,0,1]}\n",
    "    labels = set(y_train)\n",
    "    df_by_label = []\n",
    "    weights_by_label = []\n",
    "    total = pd.concat([x_train, y_train], axis=1, sort=False)\n",
    "    x_array = x_train.to_numpy()\n",
    "    y_array = np.array([coded_iris_labels[x] for x in y_train.to_numpy()])\n",
    "    y_array_indices = np.array([index_iris_labels[x] for x in y_train.to_numpy()])\n",
    "\n",
    "    for x, y in total.groupby('species'):\n",
    "        df_by_label.append(y)\n",
    "        \n",
    "    if regression_init:\n",
    "        for i in range(len(labels)):\n",
    "            xi_train = df_by_label[i].drop(columns='species')\n",
    "            yi_train = df_by_label[i]['species']\n",
    "            xi_array = xi_train.to_numpy()\n",
    "            yi_array = np.array([coded_iris_labels[x] for x in yi_train.to_numpy()])\n",
    "            _weights = linear_regression_train(xi_array, yi_array)\n",
    "            weights = [x[i] for x in _weights]\n",
    "            weights_by_label.append(np.array(weights))\n",
    "    else:\n",
    "        #df = [x.drop['species'] for x in df_by_label]\n",
    "        for x in df_by_label:\n",
    "            x = x.drop(columns='species')\n",
    "            weights_by_label.append(x.to_numpy()[0])\n",
    "        #for x in df:\n",
    "         #   weights_by_label.append(x.to_numpy()[0])\n",
    "    accuracy_per_iter = []\n",
    "    for j in range(num_iters):\n",
    "        accuracy_count = len(y_train)\n",
    "        for i in range(len(y_train)):\n",
    "            computed_y = [np.dot(x_array[i].T, k) for k in weights_by_label]\n",
    "            y_predict = computed_y.index(max(computed_y))\n",
    "            if y_predict != y_array_indices[i]:\n",
    "                weights_by_label[y_predict] -= lr * x_array[i].T\n",
    "                weights_by_label[y_array_indices[i]] += lr* x_array[i].T\n",
    "                accuracy_count -= 1\n",
    "        accuracy_per_iter.append(accuracy_count/len(y_train))\n",
    "    \n",
    "    return (weights_by_label, accuracy_per_iter)\n",
    "\n",
    "\n",
    "def multiclass_perceptron_test_iris(weights_by_label, x_test, y_test):\n",
    "    predictions = []\n",
    "    correct_count = 0\n",
    "    x_array = x_test.to_numpy()\n",
    "    y_array = np.array([coded_iris_labels[x] for x in y_test.to_numpy()])\n",
    "    y_array_indices = np.array([index_iris_labels[x] for x in y_test.to_numpy()])\n",
    "    for i in range(len(y_test)):\n",
    "        computed_y = [np.dot(x_array[i].T, j) for j in weights_by_label]\n",
    "        y_predict = computed_y.index(max(computed_y))\n",
    "        y_actual = y_array_indices[i]\n",
    "        predictions.append((y_predict, y_actual))\n",
    "        if y_predict == y_actual:\n",
    "            correct_count += 1\n",
    "    accuracy = correct_count / len(y_test)\n",
    "    return predictions, accuracy"
   ],
   "metadata": {
    "collapsed": false,
    "pycharm": {
     "name": "#%%\n"
    }
   }
  },
  {
   "cell_type": "code",
   "execution_count": null,
   "outputs": [],
   "source": [
    "def perceptron(x_train, y_train, num_iters = 10000, lr=0.01, regression_init=True):\n",
    "    x_array = x_train.to_numpy()\n",
    "    y_array = y_train.to_numpy()\n",
    "    if regression_init:\n",
    "        weights = linear_regression_train(x_array, y_array)\n",
    "    else:\n",
    "        weights = x_array[0]\n",
    "    accuracy_per_iter = []\n",
    "    for j in range(num_iters):\n",
    "        accuracy_count = len(y_train)\n",
    "        for i in range(len(y_train)):\n",
    "            computed_y = np.dot(x_array[i].T, weights)\n",
    "            y_predict = 1 if computed_y >= 0.0 else 0\n",
    "            if y_predict != y_array[i]:\n",
    "                if computed_y < y_array[i]:\n",
    "                    weights += lr * x_array[i].T\n",
    "                if computed_y > y_array[i]:\n",
    "                    weights -= lr * x_array[i].T\n",
    "                accuracy_count -= 1\n",
    "        accuracy_per_iter.append(accuracy_count/len(y_train))\n",
    "    return (weights, accuracy_per_iter)\n",
    "\n",
    "\n",
    "coded_bc_labels = {0: np.array([1,0]), 1: np.array([0,1])}\n",
    "\n",
    "def multiclass_perceptron_test_bc(weights, x_test, y_test):\n",
    "    predictions = []\n",
    "    correct_count = 0\n",
    "    x_array = x_test.to_numpy()\n",
    "    y_array = y_test.to_numpy()\n",
    "    for i in range(len(y_test)):\n",
    "        computed_y = np.dot(x_array[i].T, weights)\n",
    "        y_predict = 1 if computed_y >= 0.0 else 0\n",
    "        y_actual = y_array[i]\n",
    "        predictions.append((computed_y, y_actual))\n",
    "        if y_predict == y_actual:\n",
    "            correct_count += 1\n",
    "    accuracy = correct_count / len(y_test)\n",
    "    return predictions, accuracy"
   ],
   "metadata": {
    "collapsed": false,
    "pycharm": {
     "name": "#%%\n"
    }
   }
  },
  {
   "cell_type": "markdown",
   "source": [
    "## Experiments"
   ],
   "metadata": {
    "collapsed": false
   }
  },
  {
   "cell_type": "code",
   "execution_count": null,
   "outputs": [],
   "source": [
    "# pandas dataframes – iris\n",
    "iris_df = seaborn.load_dataset('iris')\n",
    "iris_features = iris_df.drop(columns='species')\n",
    "iris_labels_str = iris_df['species']\n",
    "iris_df['species'] = iris_df['species'].astype('category').cat.codes\n",
    "iris_labels = iris_df['species']"
   ],
   "metadata": {
    "collapsed": false,
    "pycharm": {
     "name": "#%%\n"
    }
   }
  },
  {
   "cell_type": "code",
   "execution_count": null,
   "outputs": [],
   "source": [
    "iris_errors_lr = []\n",
    "iris_accuracies_lr = []\n",
    "for i in range(5):\n",
    "    x_train, x_test, y_train, y_test = train_test_split(iris_features, iris_labels_str, test_size = 0.2)\n",
    "    w_iris, iris_accuracy_list = multiclass_perceptron_train_iris(x_train, y_train)\n",
    "    predictions_iris, iris_accuracy_number = multiclass_perceptron_test_iris(w_iris, x_test, y_test)\n",
    "    iris_accuracies_lr.append(iris_accuracy_number)\n",
    "    iris_errors_lr.append(iris_accuracy_list)"
   ],
   "metadata": {
    "collapsed": false,
    "pycharm": {
     "name": "#%%\n"
    }
   }
  },
  {
   "cell_type": "code",
   "execution_count": null,
   "outputs": [],
   "source": [
    "iris_errors_fv = []\n",
    "iris_accuracies_fv = []\n",
    "for i in range(5):\n",
    "    x_train, x_test, y_train, y_test = train_test_split(iris_features, iris_labels_str, test_size = 0.2)\n",
    "    w_iris, iris_accuracy_list = multiclass_perceptron_train_iris(x_train, y_train, regression_init=False)\n",
    "    predictions_iris, iris_accuracy_number = multiclass_perceptron_test_iris(w_iris, x_test, y_test)\n",
    "    iris_accuracies_fv.append(iris_accuracy_number)\n",
    "    iris_errors_fv.append(iris_accuracy_list)"
   ],
   "metadata": {
    "collapsed": false,
    "pycharm": {
     "name": "#%%\n"
    }
   }
  },
  {
   "cell_type": "code",
   "execution_count": null,
   "outputs": [],
   "source": [
    "plt.title('predictive accuracy of multiclass perceptron on iris dataset')\n",
    "plt.xlabel('sample index')\n",
    "plt.ylabel('accuracy')\n",
    "plt.plot([i for i in range(5)], iris_accuracies_lr, label = 'linear regression initialization')\n",
    "plt.plot([i for i in range(5)], iris_accuracies_fv, label = 'first-value initialization')\n",
    "plt.legend()\n",
    "plt.savefig('iris_accuracies.png')\n",
    "plt.show()"
   ],
   "metadata": {
    "collapsed": false,
    "pycharm": {
     "name": "#%%\n"
    }
   }
  },
  {
   "cell_type": "code",
   "execution_count": null,
   "outputs": [],
   "source": [
    "plt.title('accuracy of multiclass perceptron on iris dataset per iteration')\n",
    "plt.xlabel('number of iterations')\n",
    "plt.ylabel('accuracy')\n",
    "plt.plot([i for i in range(10000)], iris_errors_lr[0], label='Accuracy per iteration - iris; linear regression')\n",
    "plt.plot([i for i in range(10000)], iris_errors_fv[0], label='Accuracy per iteration - iris; first-value init')\n",
    "plt.legend()\n",
    "plt.savefig('iris_errors.png')\n",
    "plt.show()"
   ],
   "metadata": {
    "collapsed": false,
    "pycharm": {
     "name": "#%%\n"
    }
   }
  },
  {
   "cell_type": "markdown",
   "source": [
    "### Breast Cancer Experiment"
   ],
   "metadata": {
    "collapsed": false
   }
  },
  {
   "cell_type": "code",
   "execution_count": null,
   "outputs": [],
   "source": [
    "bc_errors_lr = []\n",
    "bc_accuracies_lr = []\n",
    "bc_df = load_breast_cancer(as_frame=True)\n",
    "for i in range(5):\n",
    "    x_train, x_test, y_train, y_test = train_test_split(bc_df.data, bc_df.target, test_size=0.2)\n",
    "    w_bc, bc_accuracy_list = perceptron(x_train, y_train, num_iters=10000, lr=0.1)\n",
    "    predictions_bc, bc_accuracy_number = multiclass_perceptron_test_bc(w_bc, x_test, y_test)\n",
    "    bc_accuracies_lr.append(bc_accuracy_number)\n",
    "    bc_errors_lr.append(bc_accuracy_list)"
   ],
   "metadata": {
    "collapsed": false,
    "pycharm": {
     "name": "#%%\n"
    }
   }
  },
  {
   "cell_type": "code",
   "execution_count": null,
   "outputs": [],
   "source": [
    "bc_errors_fv = []\n",
    "bc_accuracies_fv = []\n",
    "for i in range(5):\n",
    "    x_train, x_test, y_train, y_test = train_test_split(bc_df.data, bc_df.target, test_size=0.2)\n",
    "    w_bc, bc_accuracy_list = perceptron(x_train, y_train, num_iters=10000, regression_init=False)\n",
    "    predictions_bc, bc_accuracy_number = multiclass_perceptron_test_bc(w_bc, x_test, y_test)\n",
    "    bc_accuracies_fv.append(bc_accuracy_number)\n",
    "    bc_errors_fv.append(bc_accuracy_list)"
   ],
   "metadata": {
    "collapsed": false,
    "pycharm": {
     "name": "#%%\n"
    }
   }
  },
  {
   "cell_type": "code",
   "execution_count": null,
   "outputs": [],
   "source": [
    "plt.title('predictive accuracy of multiclass perceptron on breast cancer dataset')\n",
    "plt.xlabel('sample index')\n",
    "plt.ylabel('accuracy')\n",
    "plt.plot([i for i in range(5)], bc_accuracies_lr, label = 'linear regression initialization')\n",
    "plt.plot([i for i in range(5)], bc_accuracies_fv, label = 'first-value initialization')\n",
    "plt.legend()\n",
    "plt.savefig('bc_accuracies.png')\n",
    "plt.show()"
   ],
   "metadata": {
    "collapsed": false,
    "pycharm": {
     "name": "#%%\n"
    }
   }
  },
  {
   "cell_type": "code",
   "execution_count": null,
   "outputs": [],
   "source": [
    "plt.title('accuracy of multiclass perceptron on breast cancer dataset per iteration')\n",
    "plt.xlabel('number of iterations')\n",
    "plt.ylabel('accuracy')\n",
    "plt.plot([i for i in range(10000)], bc_errors_lr[0], label='linear regression initialization')\n",
    "plt.plot([i for i in range(10000)], bc_errors_fv[0], label='first-value initialization')\n",
    "plt.savefig('bc_errors.png')\n",
    "plt.show()"
   ],
   "metadata": {
    "collapsed": false,
    "pycharm": {
     "name": "#%%\n"
    }
   }
  },
  {
   "cell_type": "code",
   "execution_count": null,
   "outputs": [],
   "source": [
    "print(sum(bc_accuracies_lr)/5, sum(bc_accuracies_fv)/5)"
   ],
   "metadata": {
    "collapsed": false,
    "pycharm": {
     "name": "#%%\n"
    }
   }
  },
  {
   "cell_type": "code",
   "execution_count": null,
   "outputs": [],
   "source": [
    "print(sum(iris_accuracies_lr)/5, sum(iris_accuracies_fv)/5)"
   ],
   "metadata": {
    "collapsed": false,
    "pycharm": {
     "name": "#%%\n"
    }
   }
  },
  {
   "cell_type": "code",
   "execution_count": null,
   "outputs": [],
   "source": [
    "print(sum(bc_errors_lr[0])/len(bc_errors_lr[0]))"
   ],
   "metadata": {
    "collapsed": false,
    "pycharm": {
     "name": "#%%\n"
    }
   }
  },
  {
   "cell_type": "code",
   "execution_count": null,
   "outputs": [],
   "source": [
    "print(sum(bc_errors_fv[0])/len(bc_errors_fv[0]))"
   ],
   "metadata": {
    "collapsed": false,
    "pycharm": {
     "name": "#%%\n"
    }
   }
  },
  {
   "cell_type": "code",
   "execution_count": null,
   "outputs": [],
   "source": [
    "print(sum(iris_errors_lr[0])/len(iris_errors_lr[0]))"
   ],
   "metadata": {
    "collapsed": false,
    "pycharm": {
     "name": "#%%\n"
    }
   }
  },
  {
   "cell_type": "code",
   "execution_count": null,
   "outputs": [],
   "source": [
    "print(sum(iris_errors_fv[0])/len(iris_errors_fv[0]))"
   ],
   "metadata": {
    "collapsed": false,
    "pycharm": {
     "name": "#%%\n"
    }
   }
  },
  {
   "cell_type": "code",
   "execution_count": null,
   "outputs": [],
   "source": [],
   "metadata": {
    "collapsed": false,
    "pycharm": {
     "name": "#%%\n"
    }
   }
  },
  {
   "cell_type": "code",
   "execution_count": 3,
   "metadata": {},
   "outputs": [],
   "source": []
  },
  {
   "cell_type": "code",
   "execution_count": 4,
   "metadata": {},
   "outputs": [],
   "source": [
    "def perceptron(x_train, y_train, num_iters = 10000, lr=0.01, regression_init=True):\n",
    "    x_array = x_train.to_numpy()\n",
    "    y_array = y_train.to_numpy()\n",
    "    if regression_init:\n",
    "        weights = linear_regression_train(x_array, y_array)\n",
    "    else:\n",
    "        weights = x_array[0]\n",
    "    accuracy_per_iter = []\n",
    "    for j in range(num_iters):\n",
    "        accuracy_count = len(y_train)\n",
    "        for i in range(len(y_train)):\n",
    "            computed_y = np.dot(x_array[i].T, weights)\n",
    "            y_predict = 1 if computed_y >= 0.0 else 0\n",
    "            if y_predict != y_array[i]:\n",
    "                if computed_y < y_array[i]:\n",
    "                    weights += lr * x_array[i].T\n",
    "                if computed_y > y_array[i]:\n",
    "                    weights -= lr * x_array[i].T\n",
    "                accuracy_count -= 1\n",
    "        accuracy_per_iter.append(accuracy_count/len(y_train))\n",
    "    return (weights, accuracy_per_iter)\n",
    "\n",
    "\n",
    "coded_bc_labels = {0: np.array([1,0]), 1: np.array([0,1])}\n",
    "\n",
    "def multiclass_perceptron_test_bc(weights, x_test, y_test):\n",
    "    predictions = []\n",
    "    correct_count = 0\n",
    "    x_array = x_test.to_numpy()\n",
    "    y_array = y_test.to_numpy()\n",
    "    for i in range(len(y_test)):\n",
    "        computed_y = np.dot(x_array[i].T, weights)\n",
    "        y_predict = 1 if computed_y >= 0.0 else 0\n",
    "        y_actual = y_array[i]\n",
    "        predictions.append((computed_y, y_actual))\n",
    "        if y_predict == y_actual:\n",
    "            correct_count += 1\n",
    "    accuracy = correct_count / len(y_test)\n",
    "    return predictions, accuracy"
   ]
  },
  {
   "cell_type": "markdown",
   "metadata": {},
   "source": [
    "## Experiments"
   ]
  },
  {
   "cell_type": "code",
   "execution_count": 5,
   "metadata": {},
   "outputs": [],
   "source": [
    "# pandas dataframes – iris\n",
    "iris_df = seaborn.load_dataset('iris')\n",
    "iris_features = iris_df.drop(columns='species')\n",
    "iris_labels_str = iris_df['species']\n",
    "iris_df['species'] = iris_df['species'].astype('category').cat.codes\n",
    "iris_labels = iris_df['species']"
   ]
  },
  {
   "cell_type": "code",
   "execution_count": 6,
   "metadata": {},
   "outputs": [],
   "source": [
    "iris_errors_lr = []\n",
    "iris_accuracies_lr = []\n",
    "for i in range(5):\n",
    "    x_train, x_test, y_train, y_test = train_test_split(iris_features, iris_labels_str, test_size = 0.2)\n",
    "    w_iris, iris_accuracy_list = multiclass_perceptron_train_iris(x_train, y_train)\n",
    "    predictions_iris, iris_accuracy_number = multiclass_perceptron_test_iris(w_iris, x_test, y_test)\n",
    "    iris_accuracies_lr.append(iris_accuracy_number)\n",
    "    iris_errors_lr.append(iris_accuracy_list)"
   ]
  },
  {
   "cell_type": "code",
   "execution_count": 7,
   "metadata": {},
   "outputs": [],
   "source": [
    "iris_errors_fv = []\n",
    "iris_accuracies_fv = []\n",
    "for i in range(5):\n",
    "    x_train, x_test, y_train, y_test = train_test_split(iris_features, iris_labels_str, test_size = 0.2)\n",
    "    w_iris, iris_accuracy_list = multiclass_perceptron_train_iris(x_train, y_train, regression_init=False)\n",
    "    predictions_iris, iris_accuracy_number = multiclass_perceptron_test_iris(w_iris, x_test, y_test)\n",
    "    iris_accuracies_fv.append(iris_accuracy_number)\n",
    "    iris_errors_fv.append(iris_accuracy_list)"
   ]
  },
  {
   "cell_type": "code",
   "execution_count": 8,
   "metadata": {},
   "outputs": [
    {
     "data": {
      "image/png": "[encoded data removed]",
      "text/plain": [
       "<Figure size 432x288 with 1 Axes>"
      ]
     },
     "metadata": {
      "needs_background": "light"
     },
     "output_type": "display_data"
    }
   ],
   "source": [
    "plt.title('predictive accuracy of multiclass perceptron on iris dataset')\n",
    "plt.xlabel('sample index')\n",
    "plt.ylabel('accuracy')\n",
    "plt.plot([i for i in range(5)], iris_accuracies_lr, label = 'linear regression initialization')\n",
    "plt.plot([i for i in range(5)], iris_accuracies_fv, label = 'first-value initialization')\n",
    "plt.legend()\n",
    "plt.savefig('iris_accuracies.png')\n",
    "plt.show()"
   ]
  },
  {
   "cell_type": "code",
   "execution_count": 9,
   "metadata": {},
   "outputs": [
    {
     "data": {
      "image/png": "[encoded data removed]",
      "text/plain": [
       "<Figure size 432x288 with 1 Axes>"
      ]
     },
     "metadata": {
      "needs_background": "light"
     },
     "output_type": "display_data"
    }
   ],
   "source": [
    "plt.title('accuracy of multiclass perceptron on iris dataset per iteration')\n",
    "plt.xlabel('number of iterations')\n",
    "plt.ylabel('accuracy')\n",
    "plt.plot([i for i in range(10000)], iris_errors_lr[0], label='Accuracy per iteration - iris; linear regression')\n",
    "plt.plot([i for i in range(10000)], iris_errors_fv[0], label='Accuracy per iteration - iris; first-value init')\n",
    "plt.legend()\n",
    "plt.savefig('iris_errors.png')\n",
    "plt.show()"
   ]
  },
  {
   "cell_type": "markdown",
   "metadata": {},
   "source": [
    "### Breast Cancer Experiment"
   ]
  },
  {
   "cell_type": "code",
   "execution_count": 10,
   "metadata": {},
   "outputs": [],
   "source": [
    "bc_errors_lr = []\n",
    "bc_accuracies_lr = []\n",
    "bc_df = load_breast_cancer(as_frame=True)\n",
    "for i in range(5):\n",
    "    x_train, x_test, y_train, y_test = train_test_split(bc_df.data, bc_df.target, test_size=0.2)\n",
    "    w_bc, bc_accuracy_list = perceptron(x_train, y_train, num_iters=10000, lr=0.1)\n",
    "    predictions_bc, bc_accuracy_number = multiclass_perceptron_test_bc(w_bc, x_test, y_test)\n",
    "    bc_accuracies_lr.append(bc_accuracy_number)\n",
    "    bc_errors_lr.append(bc_accuracy_list)"
   ]
  },
  {
   "cell_type": "code",
   "execution_count": 12,
   "metadata": {},
   "outputs": [],
   "source": [
    "bc_errors_fv = []\n",
    "bc_accuracies_fv = []\n",
    "for i in range(5):\n",
    "    x_train, x_test, y_train, y_test = train_test_split(bc_df.data, bc_df.target, test_size=0.2)\n",
    "    w_bc, bc_accuracy_list = perceptron(x_train, y_train, num_iters=10000, regression_init=False)\n",
    "    predictions_bc, bc_accuracy_number = multiclass_perceptron_test_bc(w_bc, x_test, y_test)\n",
    "    bc_accuracies_fv.append(bc_accuracy_number)\n",
    "    bc_errors_fv.append(bc_accuracy_list)"
   ]
  },
  {
   "cell_type": "code",
   "execution_count": 13,
   "metadata": {},
   "outputs": [
    {
     "data": {
      "image/png": "[encoded data removed]",
      "text/plain": [
       "<Figure size 432x288 with 1 Axes>"
      ]
     },
     "metadata": {
      "needs_background": "light"
     },
     "output_type": "display_data"
    }
   ],
   "source": [
    "plt.title('predictive accuracy of multiclass perceptron on breast cancer dataset')\n",
    "plt.xlabel('sample index')\n",
    "plt.ylabel('accuracy')\n",
    "plt.plot([i for i in range(5)], bc_accuracies_lr, label = 'linear regression initialization')\n",
    "plt.plot([i for i in range(5)], bc_accuracies_fv, label = 'first-value initialization')\n",
    "plt.legend()\n",
    "plt.savefig('bc_accuracies.png')\n",
    "plt.show()"
   ]
  },
  {
   "cell_type": "code",
   "execution_count": 15,
   "metadata": {},
   "outputs": [
    {
     "data": {
      "image/png": "[encoded data removed]",
      "text/plain": [
       "<Figure size 432x288 with 1 Axes>"
      ]
     },
     "metadata": {
      "needs_background": "light"
     },
     "output_type": "display_data"
    }
   ],
   "source": [
    "plt.title('accuracy of multiclass perceptron on breast cancer dataset per iteration')\n",
    "plt.xlabel('number of iterations')\n",
    "plt.ylabel('accuracy')\n",
    "plt.plot([i for i in range(10000)], bc_errors_lr[0], label='linear regression initialization')\n",
    "plt.plot([i for i in range(10000)], bc_errors_fv[0], label='first-value initialization')\n",
    "plt.savefig('bc_errors.png')\n",
    "plt.show()"
   ]
  },
  {
   "cell_type": "code",
   "execution_count": 18,
   "metadata": {},
   "outputs": [
    {
     "name": "stdout",
     "output_type": "stream",
     "text": [
      "0.9157894736842106 0.887719298245614\n"
     ]
    }
   ],
   "source": [
    "print(sum(bc_accuracies_lr)/5, sum(bc_accuracies_fv)/5)"
   ]
  },
  {
   "cell_type": "code",
   "execution_count": 19,
   "metadata": {},
   "outputs": [
    {
     "name": "stdout",
     "output_type": "stream",
     "text": [
      "0.9400000000000001 0.96\n"
     ]
    }
   ],
   "source": [
    "print(sum(iris_accuracies_lr)/5, sum(iris_accuracies_fv)/5)"
   ]
  },
  {
   "cell_type": "code",
   "execution_count": 23,
   "metadata": {},
   "outputs": [
    {
     "name": "stdout",
     "output_type": "stream",
     "text": [
      "0.8916643956042528\n"
     ]
    }
   ],
   "source": [
    "print(sum(bc_errors_lr[0])/len(bc_errors_lr[0]))"
   ]
  },
  {
   "cell_type": "code",
   "execution_count": 24,
   "metadata": {},
   "outputs": [
    {
     "name": "stdout",
     "output_type": "stream",
     "text": [
      "0.8593571428572583\n"
     ]
    }
   ],
   "source": [
    "print(sum(bc_errors_fv[0])/len(bc_errors_fv[0]))"
   ]
  },
  {
   "cell_type": "code",
   "execution_count": 25,
   "metadata": {},
   "outputs": [
    {
     "name": "stdout",
     "output_type": "stream",
     "text": [
      "0.9372675000000039\n"
     ]
    }
   ],
   "source": [
    "print(sum(iris_errors_lr[0])/len(iris_errors_lr[0]))"
   ]
  },
  {
   "cell_type": "code",
   "execution_count": 26,
   "metadata": {},
   "outputs": [
    {
     "name": "stdout",
     "output_type": "stream",
     "text": [
      "0.9455691666666344\n"
     ]
    }
   ],
   "source": [
    "print(sum(iris_errors_fv[0])/len(iris_errors_fv[0]))"
   ]
  },
  {
   "cell_type": "code",
   "execution_count": null,
   "metadata": {},
   "outputs": [],
   "source": []
  }
 ],
 "metadata": {
  "kernelspec": {
   "display_name": "Python 3",
   "language": "python",
   "name": "python3"
  },
  "language_info": {
   "codemirror_mode": {
    "name": "ipython",
    "version": 3
   },
   "file_extension": ".py",
   "mimetype": "text/x-python",
   "name": "python",
   "nbconvert_exporter": "python",
   "pygments_lexer": "ipython3",
   "version": "3.8.3"
  }
 },
 "nbformat": 4,
 "nbformat_minor": 4
}